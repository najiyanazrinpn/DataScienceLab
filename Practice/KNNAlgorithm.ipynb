{
 "cells": [
  {
   "cell_type": "code",
   "execution_count": 2,
   "id": "2fced3ab",
   "metadata": {},
   "outputs": [
    {
     "name": "stdout",
     "output_type": "stream",
     "text": [
      "   Unnamed: 0  gives_birth  aquatic_animal  aerial_animal  has_legs  \\\n",
      "0           0            1               0              0         1   \n",
      "1           1            0               0              0         0   \n",
      "2           2            0               1              0         0   \n",
      "3           3            0               2              0         1   \n",
      "4           4            1               0              1         1   \n",
      "5           5            0               0              1         1   \n",
      "6           6            1               0              0         1   \n",
      "7           7            1               1              0         0   \n",
      "8           8            0               2              0         1   \n",
      "9           9            0               2              0         1   \n",
      "\n",
      "  class_label  \n",
      "0      mammal  \n",
      "1     reptile  \n",
      "2        fish  \n",
      "3   amphibian  \n",
      "4        bird  \n",
      "5        bird  \n",
      "6      mammal  \n",
      "7        fish  \n",
      "8   amphibian  \n",
      "9   amphibian  \n"
     ]
    }
   ],
   "source": [
    "import pandas as pd\n",
    "data = pd.read_csv('dataset.csv')\n",
    "print(data)"
   ]
  },
  {
   "cell_type": "code",
   "execution_count": 3,
   "id": "547e6071",
   "metadata": {},
   "outputs": [],
   "source": [
    "X = data[['gives_birth',  'aquatic_animal',  'aerial_animal',  'has_legs']]\n",
    "Y = data[['class_label']]"
   ]
  },
  {
   "cell_type": "code",
   "execution_count": 5,
   "id": "3aab7e82",
   "metadata": {},
   "outputs": [],
   "source": [
    "from sklearn.model_selection import train_test_split\n",
    "X_train, X_test, Y_train, Y_test = train_test_split(X, Y, test_size=0.4, random_state = 1)"
   ]
  },
  {
   "cell_type": "code",
   "execution_count": 14,
   "id": "485f3666",
   "metadata": {},
   "outputs": [
    {
     "name": "stdout",
     "output_type": "stream",
     "text": [
      "['amphibian' 'amphibian' 'fish' 'bird']\n",
      "['fish']\n"
     ]
    }
   ],
   "source": [
    "from sklearn.neighbors import KNeighborsClassifier\n",
    "knn = KNeighborsClassifier(n_neighbors=3)\n",
    "knn.fit(X_train, Y_train.values.ravel())\n",
    "Y_pred = knn.predict(X_test)\n",
    "print(Y_pred)\n",
    "sample = [[1, 1, 0, 0]]\n",
    "Y_new = knn.predict(sample)\n",
    "print(Y_new)"
   ]
  }
 ],
 "metadata": {
  "kernelspec": {
   "display_name": "Python 3 (ipykernel)",
   "language": "python",
   "name": "python3"
  },
  "language_info": {
   "codemirror_mode": {
    "name": "ipython",
    "version": 3
   },
   "file_extension": ".py",
   "mimetype": "text/x-python",
   "name": "python",
   "nbconvert_exporter": "python",
   "pygments_lexer": "ipython3",
   "version": "3.9.7"
  }
 },
 "nbformat": 4,
 "nbformat_minor": 5
}
