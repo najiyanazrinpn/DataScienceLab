{
 "cells": [
  {
   "cell_type": "code",
   "execution_count": 2,
   "id": "116fa934",
   "metadata": {},
   "outputs": [],
   "source": [
    "import pandas as pd\n",
    "data = pd.read_csv('dataset.csv')"
   ]
  },
  {
   "cell_type": "code",
   "execution_count": 3,
   "id": "e365053c",
   "metadata": {},
   "outputs": [],
   "source": [
    "X = data[['gives_birth', 'aquatic_animal', 'aerial_animal', 'has_legs']]\n",
    "Y = data[['class_label']]"
   ]
  },
  {
   "cell_type": "code",
   "execution_count": 4,
   "id": "8c8806cf",
   "metadata": {},
   "outputs": [],
   "source": [
    "from sklearn.model_selection import train_test_split\n",
    "X_train, X_test, Y_train, Y_test = train_test_split(X, Y, test_size=0.4, random_state=1)"
   ]
  },
  {
   "cell_type": "code",
   "execution_count": 19,
   "id": "a217a814",
   "metadata": {},
   "outputs": [
    {
     "name": "stdout",
     "output_type": "stream",
     "text": [
      "['fish' 'amphibian' 'mammal' 'bird']\n",
      "['fish']\n"
     ]
    }
   ],
   "source": [
    "from sklearn.naive_bayes import GaussianNB\n",
    "gnb = GaussianNB()\n",
    "gnb.fit(X_train, Y_train.values.ravel())\n",
    "Y_pred = gnb.predict(X_test)\n",
    "print(Y_pred)\n",
    "new_case = [[1,1,0,0]]\n",
    "y_new = gnb.predict(new_case)\n",
    "print(y_new)\n"
   ]
  },
  {
   "cell_type": "code",
   "execution_count": 24,
   "id": "d1066f95",
   "metadata": {},
   "outputs": [
    {
     "name": "stdout",
     "output_type": "stream",
     "text": [
      "1.0\n"
     ]
    }
   ],
   "source": [
    "from sklearn import metrics\n",
    "print(gnb.score(X_test, Y_test))"
   ]
  }
 ],
 "metadata": {
  "kernelspec": {
   "display_name": "Python 3 (ipykernel)",
   "language": "python",
   "name": "python3"
  },
  "language_info": {
   "codemirror_mode": {
    "name": "ipython",
    "version": 3
   },
   "file_extension": ".py",
   "mimetype": "text/x-python",
   "name": "python",
   "nbconvert_exporter": "python",
   "pygments_lexer": "ipython3",
   "version": "3.9.7"
  }
 },
 "nbformat": 4,
 "nbformat_minor": 5
}
