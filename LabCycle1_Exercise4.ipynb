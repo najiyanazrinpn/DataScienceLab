{
  "cells": [
    {
      "cell_type": "code",
      "execution_count": null,
      "id": "15e27926",
      "metadata": {
        "id": "15e27926",
        "outputId": "217e357e-004c-41a9-ee34-2d270d12eb84"
      },
      "outputs": [
        {
          "name": "stdout",
          "output_type": "stream",
          "text": [
            "List:  ['Najiya', 'Mubeena', 'Parvathy']\n",
            "List to series: \n",
            " 0      Najiya\n",
            "1     Mubeena\n",
            "2    Parvathy\n",
            "dtype: object\n"
          ]
        }
      ],
      "source": [
        "'''1. Write a python program to implement List-to-Series Conversion.'''\n",
        "import pandas as pd\n",
        "l = ['Najiya', 'Mubeena', 'Parvathy']\n",
        "print(\"List: \",l)\n",
        "print(\"List to series: \\n\", pd.Series(l))"
      ]
    },
    {
      "cell_type": "code",
      "execution_count": null,
      "id": "02ec6e8d",
      "metadata": {
        "id": "02ec6e8d",
        "outputId": "fdc94c62-25eb-4663-ebc2-36502cb6e9b4"
      },
      "outputs": [
        {
          "name": "stdout",
          "output_type": "stream",
          "text": [
            "Dates from 1st May 2021 to 12th May 2021\n",
            "2021-05-01 00:00:00\n",
            "2021-05-02 00:00:00\n",
            "2021-05-03 00:00:00\n",
            "2021-05-04 00:00:00\n",
            "2021-05-05 00:00:00\n",
            "2021-05-06 00:00:00\n",
            "2021-05-07 00:00:00\n",
            "2021-05-08 00:00:00\n",
            "2021-05-09 00:00:00\n",
            "2021-05-10 00:00:00\n",
            "2021-05-11 00:00:00\n",
            "2021-05-12 00:00:00\n"
          ]
        }
      ],
      "source": [
        "'''2.Write  a  python  program  to Generate  the  series  of  dates  from  1st  May,  2021  to  12th May, \n",
        "2021 (both inclusive).'''\n",
        "dates = pd.date_range(start='05-01-2021', end='05-12-2021')\n",
        "print(\"Dates from 1st May 2021 to 12th May 2021\")\n",
        "for i in dates:\n",
        "    print(i)"
      ]
    },
    {
      "cell_type": "code",
      "execution_count": null,
      "id": "216d684f",
      "metadata": {
        "id": "216d684f",
        "outputId": "dbd47d9f-b08f-4fd2-af3d-24585104db96"
      },
      "outputs": [
        {
          "name": "stdout",
          "output_type": "stream",
          "text": [
            "      Name  Marks\n",
            "0      Anu     45\n",
            "1    Akhil     46\n",
            "2  Anandhu     49\n"
          ]
        }
      ],
      "source": [
        "'''3.Given a dictionary, convert it into corresponding dataframe and display it.'''\n",
        "d = {'Name':['Anu','Akhil','Anandhu'], 'Marks':[45,46,49]}\n",
        "print(pd.DataFrame.from_dict(d))"
      ]
    },
    {
      "cell_type": "code",
      "execution_count": null,
      "id": "2236a84e",
      "metadata": {
        "id": "2236a84e",
        "outputId": "9f2542fa-905c-4682-f37f-d72ffc260d30"
      },
      "outputs": [
        {
          "name": "stdout",
          "output_type": "stream",
          "text": [
            "    C1  C2\n",
            "R1   1   2\n",
            "R2   1   3\n",
            "R3   2   3\n"
          ]
        }
      ],
      "source": [
        "'''4.Given a 2D List, convert it into corresponding dataframe and display it.'''\n",
        "import numpy as np\n",
        "a = [[1,2],[1,3],[2,3]]\n",
        "b=pd.DataFrame(a, columns=[\"C1\",\"C2\"], index=['R1','R2','R3'])\n",
        "print(b)"
      ]
    },
    {
      "cell_type": "code",
      "execution_count": null,
      "id": "6c01c1a3",
      "metadata": {
        "id": "6c01c1a3",
        "outputId": "3a9d85cb-1da5-4e07-9033-6ce5d02c51a8"
      },
      "outputs": [
        {
          "name": "stdout",
          "output_type": "stream",
          "text": [
            "   Frequency  Height\n",
            "0          2       3\n",
            "1          4       5\n",
            "2          5       6\n",
            "3          7       8\n"
          ]
        }
      ],
      "source": [
        "'''5.Given a CSV file, read it into a dataframe and display it.'''\n",
        "import csv\n",
        "f=pd.read_csv('data.csv')\n",
        "print(pd.DataFrame(f))"
      ]
    },
    {
      "cell_type": "code",
      "execution_count": null,
      "id": "1adf68f8",
      "metadata": {
        "id": "1adf68f8",
        "outputId": "6505fd31-9254-4816-b5df-35fdff1ebbe8"
      },
      "outputs": [
        {
          "name": "stdout",
          "output_type": "stream",
          "text": [
            "DataFrame\n",
            "     Name  Age  Rank\n",
            "0    Raj   20     1\n",
            "1  Akhil   22    11\n",
            "2  Sonum   22     8\n",
            "3  Tilak   19     9\n",
            "\n",
            "Sorted DataFrame\n",
            "     Name  Age  Rank\n",
            "0    Raj   20     1\n",
            "2  Sonum   22     8\n",
            "3  Tilak   19     9\n",
            "1  Akhil   22    11\n"
          ]
        }
      ],
      "source": [
        "'''6.Given a dataframe, sort it by multiple columns.'''\n",
        "df = pd.DataFrame({'Name': ['Raj', 'Akhil', 'Sonum', 'Tilak'],\n",
        "                   'Age': [20, 22, 22, 19],\n",
        "                   'Rank': [1, 11, 8, 9]})\n",
        "print(\"DataFrame\\n\",df)\n",
        "print(\"\\nSorted DataFrame\\n\",df.sort_values(by=['Rank','Age'],ascending=[True,True]))\n"
      ]
    },
    {
      "cell_type": "code",
      "execution_count": null,
      "id": "695797c0",
      "metadata": {
        "scrolled": true,
        "id": "695797c0",
        "outputId": "9a58e996-765e-4db6-8edc-8b5e8ec9798f"
      },
      "outputs": [
        {
          "name": "stdout",
          "output_type": "stream",
          "text": [
            "Dataframe with custom indexing\n",
            "      Name  Age  Rank\n",
            "10    Raj   20     1\n",
            "11  Akhil   22    11\n",
            "12  Sonum   22     8\n",
            "13  Tilak   19     9\n",
            "\n",
            "DataFrame with default indexing\n",
            "     Name  Age  Rank\n",
            "0    Raj   20     1\n",
            "1  Akhil   22    11\n",
            "2  Sonum   22     8\n",
            "3  Tilak   19     9\n"
          ]
        }
      ],
      "source": [
        "'''7.Given  a dataframe  with  custom  indexing,  convert  and  it  to  default  indexing  and display it.'''\n",
        "df = pd.DataFrame({'Name': ['Raj', 'Akhil', 'Sonum', 'Tilak'],\n",
        "                   'Age': [20, 22, 22, 19],\n",
        "                   'Rank': [1, 11, 8, 9]}, index={10,11,12,13})\n",
        "print(\"Dataframe with custom indexing\\n\", df)\n",
        "df.reset_index(inplace=True, drop=True)\n",
        "print(\"\\nDataFrame with default indexing\\n\",df)"
      ]
    },
    {
      "cell_type": "code",
      "execution_count": null,
      "id": "6e7b722f",
      "metadata": {
        "id": "6e7b722f",
        "outputId": "62c6915f-ca8b-4257-b786-e1b8518c8d73"
      },
      "outputs": [
        {
          "name": "stdout",
          "output_type": "stream",
          "text": [
            "    Name  Age  Rank\n",
            "0    Raj   20     1\n",
            "1  Akhil   22    11\n"
          ]
        }
      ],
      "source": [
        "'''8.Given a dataframe, select first 2 rows and output them.'''\n",
        "df = pd.DataFrame({'Name': ['Raj', 'Akhil', 'Sonum', 'Tilak'],\n",
        "                   'Age': [20, 22, 22, 19],\n",
        "                   'Rank': [1, 11, 8, 9]})\n",
        "print(df.iloc[0:2])"
      ]
    },
    {
      "cell_type": "code",
      "execution_count": null,
      "id": "6810851b",
      "metadata": {
        "id": "6810851b",
        "outputId": "94c268fb-74c6-4064-ffd0-6fa0d7a0239b"
      },
      "outputs": [
        {
          "name": "stdout",
          "output_type": "stream",
          "text": [
            "Occupation\n",
            "Clerk       50000.0\n",
            "Manager    125000.0\n",
            "Name: Salary, dtype: float64\n"
          ]
        }
      ],
      "source": [
        "'''9.Given  is  a  dataframe  showing  name,  occupation, salary  of  people.  Find  the  average salary per\n",
        "occupation.'''\n",
        "df = pd.DataFrame({'Name': ['Raj', 'Akhil', 'Sonum', 'Tilak', 'Divya'],\n",
        "                   'Occupation': ['Manager','Clerk','Clerk','Clerk','Manager'],\n",
        "                   'Salary': [100000, 25000, 80000, 45000, 150000]})\n",
        "print(df.groupby('Occupation')['Salary'].mean())\n",
        "\n",
        "#print(employee.groupby('Occupation').Salary.mean())\n",
        "# dept_agg = employee.groupby('Occupation').Salary.agg(['count','mean']).reset_index()\n",
        "# print(dept_agg.rename(columns={'count':'Count','mean':'Avg_Salary'}))"
      ]
    },
    {
      "cell_type": "code",
      "execution_count": null,
      "id": "91103159",
      "metadata": {
        "id": "91103159",
        "outputId": "30fbba32-7402-4725-b1c4-9f2463d96a2e"
      },
      "outputs": [
        {
          "name": "stdout",
          "output_type": "stream",
          "text": [
            "    Name Occupation    Salary\n",
            "0    Raj    Manager  100000.0\n",
            "1  Akhil      Clerk       0.0\n",
            "2  Sonum      Clerk   80000.0\n",
            "3  Tilak      Clerk   45000.0\n",
            "4  Divya    Manager       0.0\n"
          ]
        }
      ],
      "source": [
        "'''10.Given a dataframe with NaN Values, fill the NaN values with 0.'''\n",
        "import numpy as np\n",
        "df = pd.DataFrame({'Name': ['Raj', 'Akhil', 'Sonum', 'Tilak', 'Divya'],\n",
        "                   'Occupation': ['Manager','Clerk','Clerk','Clerk','Manager'],\n",
        "                   'Salary': [100000, np.nan, 80000, 45000, np.nan]})\n",
        "print(df.fillna(0))"
      ]
    },
    {
      "cell_type": "code",
      "execution_count": null,
      "id": "eb846aed",
      "metadata": {
        "id": "eb846aed",
        "outputId": "a59d64fb-96e2-4550-ea34-6f8dfa1c6624"
      },
      "outputs": [
        {
          "name": "stdout",
          "output_type": "stream",
          "text": [
            "     Cname  Profit\n",
            "0       GC   10000\n",
            "1     Zook   60000\n",
            "2     Vivo  -14000\n",
            "3  Samsung    3000\n",
            "4  OnePlus   -5000\n",
            "     Cname  Profit\n",
            "0       GC    True\n",
            "1     Zook    True\n",
            "2     Vivo   False\n",
            "3  Samsung    True\n",
            "4  OnePlus   False\n"
          ]
        }
      ],
      "source": [
        "'''11.Given  is  a  dataframe  showing  Company  Names  (cname)  and  corresponding  Profits (profit). Convert the\n",
        "values  of  Profit  column  such that  values  in  it  greater than  0  are set to True and the rest\n",
        "are set to False.'''\n",
        "df = pd.DataFrame({'Cname':['GC', 'Zook', 'Vivo', 'Samsung', 'OnePlus'], 'Profit': [10000, 60000, -14000, 3000, -5000]})\n",
        "print(df)\n",
        "\n",
        "df['Profit'] = df['Profit'].apply(lambda x:x>0)\n",
        "\n",
        "print(df)"
      ]
    },
    {
      "cell_type": "code",
      "execution_count": null,
      "id": "bba9b974",
      "metadata": {
        "id": "bba9b974",
        "outputId": "608ee729-5e9d-4c00-df99-650f61a8b1e8"
      },
      "outputs": [
        {
          "name": "stdout",
          "output_type": "stream",
          "text": [
            "   EID  Ename  Stipend Designation\n",
            "0    1    Anu    10000       Clerk\n",
            "1    2  Megha    20000     Manager\n",
            "2    3   Minu    10000   Associate\n",
            "3    4  Jeena     5000     Manager\n",
            "4    5  Raghu    15000       Clerk\n"
          ]
        }
      ],
      "source": [
        "'''12.Given are 2 dataframes, with one dataframe containing Employee ID (eid), Employee Name (ename) and \n",
        "Stipend (stipend) and the other dataframe containing Employee ID (eid) and designation of the employee \n",
        "(designation). Output the Dataframe containing Employee   ID   (eid),   Employee   Name   (ename),   \n",
        "Stipend   (stipend)   and   Position (position).'''\n",
        "\n",
        "df1 = pd.DataFrame({'EID':[1,2,3,4,5],\n",
        "                   'Ename': ['Anu', 'Megha', 'Minu', 'Jeena', 'Raghu'],\n",
        "                   'Stipend': [10000, 20000,10000, 5000, 15000]})\n",
        "df2 = pd.DataFrame({'EID':[1,2,3,4,5],\n",
        "                    'Designation': ['Clerk', 'Manager', 'Associate', 'Manager', 'Clerk']})\n",
        "print(pd.merge(df1, df2, how='inner', on='EID'))"
      ]
    },
    {
      "cell_type": "code",
      "execution_count": null,
      "id": "b5a6317e",
      "metadata": {
        "id": "b5a6317e"
      },
      "outputs": [],
      "source": [
        ""
      ]
    }
  ],
  "metadata": {
    "kernelspec": {
      "display_name": "Python 3 (ipykernel)",
      "language": "python",
      "name": "python3"
    },
    "language_info": {
      "codemirror_mode": {
        "name": "ipython",
        "version": 3
      },
      "file_extension": ".py",
      "mimetype": "text/x-python",
      "name": "python",
      "nbconvert_exporter": "python",
      "pygments_lexer": "ipython3",
      "version": "3.9.7"
    },
    "colab": {
      "name": "LabCycle1-Exercise4(3).ipynb",
      "provenance": []
    }
  },
  "nbformat": 4,
  "nbformat_minor": 5
}