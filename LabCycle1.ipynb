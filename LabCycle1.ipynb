{
 "cells": [
  {
   "cell_type": "code",
   "execution_count": 11,
   "id": "a98fc572",
   "metadata": {},
   "outputs": [
    {
     "name": "stdout",
     "output_type": "stream",
     "text": [
      "Array x: [1 2 5]\n",
      "Array y: [3 4 5]\n",
      "Greater than comparison:  [False False False]\n",
      "Greater than or equal to comparison:  [False False  True]\n",
      "Less than comparison:  [ True  True False]\n",
      "Less than or equal to comparison:  [ True  True  True]\n"
     ]
    }
   ],
   "source": [
    "'''Write  a  NumPy  program  to  create  an  element-wise  comparison  (greater,  greater_equal,\n",
    "less and less_equal) of two given arrays.'''\n",
    "\n",
    "import numpy as np\n",
    "x = np.array([1, 2, 5])\n",
    "y = np.array([3, 4, 5])\n",
    "print(\"Array x:\", x)\n",
    "print(\"Array y:\", y)\n",
    "print(\"Greater than comparison: \", np.greater(x, y))\n",
    "print(\"Greater than or equal to comparison: \", np.greater_equal(x, y))\n",
    "print(\"Less than comparison: \", np.less(x, y))\n",
    "print(\"Less than or equal to comparison: \", np.less_equal(x, y))"
   ]
  },
  {
   "cell_type": "code",
   "execution_count": 6,
   "id": "cebfbf9b",
   "metadata": {},
   "outputs": [
    {
     "name": "stdout",
     "output_type": "stream",
     "text": [
      "[30 32 34 36 38 40 42 44 46 48 50 52 54 56 58 60 62 64 66 68 70]\n"
     ]
    }
   ],
   "source": [
    "'''Write a NumPyprogram to create an array of all the even integers from 30 to 70.'''\n",
    "import numpy as np\n",
    "x = np.arange(30,71,2)\n",
    "print(x)"
   ]
  },
  {
   "cell_type": "code",
   "execution_count": 12,
   "id": "52aa181e",
   "metadata": {},
   "outputs": [
    {
     "name": "stdout",
     "output_type": "stream",
     "text": [
      "[[1. 0. 0.]\n",
      " [0. 1. 0.]\n",
      " [0. 0. 1.]]\n"
     ]
    }
   ],
   "source": [
    "'''Write a NumPy program to create a 3x3 identity matrix.'''\n",
    "import numpy as np\n",
    "x = np.identity(3)\n",
    "print(x)"
   ]
  },
  {
   "cell_type": "code",
   "execution_count": 18,
   "id": "537126e8",
   "metadata": {},
   "outputs": [
    {
     "name": "stdout",
     "output_type": "stream",
     "text": [
      "[  0   1   2   3   4   5   6   7   8  -9 -10 -11 -12 -13 -14 -15  16  17\n",
      "  18  19  20]\n"
     ]
    }
   ],
   "source": [
    "'''Write  a  NumPy  program  to  create  a  vector  with  values from  0  to  20 and  change  the  sign  of the \n",
    "numbers in the range from 9 to 15.'''\n",
    "import numpy as np\n",
    "x = np.arange(0,21)\n",
    "x[(x >= 9) & (x <= 15)] *= -1\n",
    "print(x)"
   ]
  },
  {
   "cell_type": "code",
   "execution_count": 27,
   "id": "c7a233fb",
   "metadata": {},
   "outputs": [
    {
     "name": "stdout",
     "output_type": "stream",
     "text": [
      "[[1 0 0 0 0]\n",
      " [0 2 0 0 0]\n",
      " [0 0 3 0 0]\n",
      " [0 0 0 4 0]\n",
      " [0 0 0 0 5]]\n"
     ]
    }
   ],
   "source": [
    "'''Write  a  NumPy  program  to  create  a  5x5  zero  matrix  with  elements  on  the  \n",
    "main  diagonal equal to 1, 2, 3, 4, 5.'''\n",
    "import numpy as np\n",
    "y = np.diag([1,2,3,4,5])\n",
    "print(y)"
   ]
  },
  {
   "cell_type": "code",
   "execution_count": 34,
   "id": "f0c76e6a",
   "metadata": {},
   "outputs": [
    {
     "name": "stdout",
     "output_type": "stream",
     "text": [
      "Sum of all elements in array:  41\n",
      "Sum of all elements in a column:  [ 8 11 10 12]\n",
      "Sum of all elements in a row:  [10 11 20]\n"
     ]
    }
   ],
   "source": [
    "'''Write  a  NumPy  program  to  compute  sum  of  all  elements,  sum  of  each  \n",
    "column  and  sum  of each row of a given array.'''\n",
    "import numpy as np\n",
    "y = np.array([[1,2,3,4],[1,2,3,5],[6,7,4,3]])\n",
    "print(\"Sum of all elements in array: \",np.sum(y))\n",
    "print(\"Sum of all elements in a column: \",np.sum(y, axis=0))\n",
    "print(\"Sum of all elements in a row: \",np.sum(y, axis=1))"
   ]
  },
  {
   "cell_type": "code",
   "execution_count": 43,
   "id": "7159498a",
   "metadata": {},
   "outputs": [
    {
     "name": "stdout",
     "output_type": "stream",
     "text": [
      "Array:\n",
      " [[0 2 3]\n",
      " [4 5 6]\n",
      " [7 8 9]]\n",
      "file.txt contains:\n",
      " [[0 2 3]\n",
      " [4 5 6]\n",
      " [7 8 9]]\n"
     ]
    }
   ],
   "source": [
    "'''Write a NumPy program to save a given array to a text file and load it.'''\n",
    "import numpy as np\n",
    "x = np.array([[0, 2, 3], [4, 5, 6], [7, 8, 9]])\n",
    "print(\"Array:\\n\", x)\n",
    "file = open(\"file.txt\", \"w+\")\n",
    "y = str(x)\n",
    "file.write(y)\n",
    "file.close()\n",
    "file = open(\"file.txt\", \"r\")\n",
    "y = file.read()\n",
    "print(\"file.txt contains:\\n\", y)\n",
    "file.close()"
   ]
  },
  {
   "cell_type": "code",
   "execution_count": 45,
   "id": "d57a1523",
   "metadata": {},
   "outputs": [
    {
     "name": "stdout",
     "output_type": "stream",
     "text": [
      "[ True  True  True]\n"
     ]
    }
   ],
   "source": [
    "'''Write a NumPy program to check whether two arrays are equal (element wise) or not.'''\n",
    "import numpy as np\n",
    "x = np.array([1,2,3])\n",
    "y = np.array([1,2,3])\n",
    "print(np.equal(x,y))"
   ]
  },
  {
   "cell_type": "code",
   "execution_count": 48,
   "id": "00854ffa",
   "metadata": {},
   "outputs": [
    {
     "name": "stdout",
     "output_type": "stream",
     "text": [
      "[[0.87118948 0.56505359 0.61167081 0.2137929 ]\n",
      " [0.40304687 0.55368212 0.67550164 0.07157189]\n",
      " [0.55625771 0.78895908 0.24608758 0.89325745]\n",
      " [0.1259177  0.98097111 0.98562619 0.80646144]]\n",
      "[[0.1259177  0.98097111 0.98562619 0.80646144]\n",
      " [0.40304687 0.55368212 0.67550164 0.07157189]\n",
      " [0.55625771 0.78895908 0.24608758 0.89325745]\n",
      " [0.87118948 0.56505359 0.61167081 0.2137929 ]]\n"
     ]
    }
   ],
   "source": [
    "'''Write  a  NumPy  program  to  create  a  4x4 array  with  random  values,  now  create  a  new  array \n",
    "from the said array swapping first and last rows.'''\n",
    "import numpy as np\n",
    "x = np.random.rand(4,4)\n",
    "print(x)\n",
    "x[[0,3]]=x[[3,0]]\n",
    "print(x)"
   ]
  },
  {
   "cell_type": "code",
   "execution_count": 67,
   "id": "71e66efc",
   "metadata": {},
   "outputs": [
    {
     "name": "stdout",
     "output_type": "stream",
     "text": [
      "Array X:\n",
      " [[1 2 4]\n",
      " [2 3 8]]\n",
      "Array Y:\n",
      " [[3 4 5]\n",
      " [3 4 5]]\n",
      "Product of elements of X and Y:\n",
      " [[ 3  8 20]\n",
      " [ 6 12 40]]\n"
     ]
    }
   ],
   "source": [
    "'''Write a NumPy program to multiply two given arrays of same size element-by-element.'''\n",
    "import numpy as np\n",
    "x = np.array([[1,2,4],[2,3,8]])\n",
    "y = np.array([[3,4,5],[3,4,5]])\n",
    "print(\"Array X:\\n\",x)\n",
    "print(\"Array Y:\\n\",y)\n",
    "if(x.shape == y.shape):\n",
    "    print(\"Product of elements of X and Y:\\n\",np.multiply(x,y))\n",
    "else:\n",
    "    print(\"Arrays are of difference sizes\")"
   ]
  }
 ],
 "metadata": {
  "kernelspec": {
   "display_name": "Python 3 (ipykernel)",
   "language": "python",
   "name": "python3"
  },
  "language_info": {
   "codemirror_mode": {
    "name": "ipython",
    "version": 3
   },
   "file_extension": ".py",
   "mimetype": "text/x-python",
   "name": "python",
   "nbconvert_exporter": "python",
   "pygments_lexer": "ipython3",
   "version": "3.9.7"
  }
 },
 "nbformat": 4,
 "nbformat_minor": 5
}
