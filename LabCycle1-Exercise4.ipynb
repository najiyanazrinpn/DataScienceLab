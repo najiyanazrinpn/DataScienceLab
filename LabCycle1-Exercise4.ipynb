{
 "cells": [
  {
   "cell_type": "code",
   "execution_count": 19,
   "id": "15e27926",
   "metadata": {},
   "outputs": [
    {
     "name": "stdout",
     "output_type": "stream",
     "text": [
      "0      Najiya\n",
      "1     Mubeena\n",
      "2    Parvathy\n",
      "dtype: object\n"
     ]
    }
   ],
   "source": [
    "'''1. Write a python program to implement List-to-Series Conversion.'''\n",
    "import pandas as pd\n",
    "l = ['Najiya', 'Mubeena', 'Parvathy']\n",
    "print(pd.Series(l))"
   ]
  },
  {
   "cell_type": "code",
   "execution_count": 27,
   "id": "02ec6e8d",
   "metadata": {},
   "outputs": [
    {
     "name": "stdout",
     "output_type": "stream",
     "text": [
      "2021-05-01 00:00:00\n",
      "2021-05-02 00:00:00\n",
      "2021-05-03 00:00:00\n",
      "2021-05-04 00:00:00\n",
      "2021-05-05 00:00:00\n",
      "2021-05-06 00:00:00\n",
      "2021-05-07 00:00:00\n",
      "2021-05-08 00:00:00\n",
      "2021-05-09 00:00:00\n",
      "2021-05-10 00:00:00\n",
      "2021-05-11 00:00:00\n",
      "2021-05-12 00:00:00\n"
     ]
    }
   ],
   "source": [
    "'''2.Write  a  python  program  to Generate  the  series  of  dates  from  1st  May,  2021  to  12th May, \n",
    "2021 (both inclusive).'''\n",
    "dates = pd.date_range(start='05-01-2021', end='05-12-2021')\n",
    "for i in dates:\n",
    "    print(i)"
   ]
  },
  {
   "cell_type": "code",
   "execution_count": 35,
   "id": "216d684f",
   "metadata": {},
   "outputs": [
    {
     "name": "stdout",
     "output_type": "stream",
     "text": [
      "  set1 set2\n",
      "0    a    c\n",
      "1    b    d\n",
      "2    c    e\n"
     ]
    }
   ],
   "source": [
    "'''3.Given a dictionary, convert it into corresponding dataframe and display it.'''\n",
    "d = {'set1':['a','b','c'], 'set2':['c','d','e']}\n",
    "print(pd.DataFrame.from_dict(d))"
   ]
  },
  {
   "cell_type": "code",
   "execution_count": 52,
   "id": "2236a84e",
   "metadata": {},
   "outputs": [
    {
     "name": "stdout",
     "output_type": "stream",
     "text": [
      "    C1  C2\n",
      "R1   1   2\n",
      "R2   1   3\n",
      "R3   2   3\n"
     ]
    }
   ],
   "source": [
    "'''4.Given a 2D List, convert it into corresponding dataframe and display it.'''\n",
    "import numpy as np\n",
    "a = [[1,2],[1,3],[2,3]]\n",
    "b=pd.DataFrame(a, columns=[\"C1\",\"C2\"], index=['R1','R2','R3'])\n",
    "print(b)"
   ]
  },
  {
   "cell_type": "code",
   "execution_count": 44,
   "id": "6c01c1a3",
   "metadata": {},
   "outputs": [
    {
     "name": "stdout",
     "output_type": "stream",
     "text": [
      "   Frequency  Height\n",
      "0          2       3\n",
      "1          4       5\n",
      "2          5       6\n",
      "3          7       8\n"
     ]
    }
   ],
   "source": [
    "'''5.Given a CSV file, read it into a dataframe and display it.'''\n",
    "import csv\n",
    "f=pd.read_csv('data.csv')\n",
    "print(pd.DataFrame(f))"
   ]
  },
  {
   "cell_type": "code",
   "execution_count": 84,
   "id": "1adf68f8",
   "metadata": {},
   "outputs": [
    {
     "name": "stdout",
     "output_type": "stream",
     "text": [
      "DataFrame\n",
      "     Name  Age  Rank\n",
      "0    Raj   20     1\n",
      "1  Akhil   22    11\n",
      "2  Sonum   22     8\n",
      "3  Tilak   19     9\n",
      "4  Divya   17     1\n",
      "5  Megha   23    18\n",
      "\n",
      "Sorted DataFrame\n",
      "     Name  Age  Rank\n",
      "4  Divya   17     1\n",
      "0    Raj   20     1\n",
      "2  Sonum   22     8\n",
      "3  Tilak   19     9\n",
      "1  Akhil   22    11\n",
      "5  Megha   23    18\n"
     ]
    }
   ],
   "source": [
    "'''6.Given a dataframe, sort it by multiple columns.'''\n",
    "df = pd.DataFrame({'Name': ['Raj', 'Akhil', 'Sonum', 'Tilak', 'Divya', 'Megha'],\n",
    "                   'Age': [20, 22, 22, 19, 17, 23],\n",
    "                   'Rank': [1, 11, 8, 9, 1, 18]})\n",
    "print(\"DataFrame\\n\",df)\n",
    "print(\"\\nSorted DataFrame\\n\",df.sort_values(by=['Rank','Age'],ascending=[True,True]))\n"
   ]
  },
  {
   "cell_type": "code",
   "execution_count": 104,
   "id": "695797c0",
   "metadata": {
    "scrolled": true
   },
   "outputs": [
    {
     "name": "stdout",
     "output_type": "stream",
     "text": [
      "    Name  Age  Rank\n",
      "e    Raj   20     1\n",
      "d  Akhil   22    11\n",
      "f  Sonum   22     8\n",
      "a  Tilak   19     9\n",
      "b  Divya   17     1\n",
      "c  Megha   23    18\n",
      "    Name  Age  Rank\n",
      "0    Raj   20     1\n",
      "1  Akhil   22    11\n",
      "2  Sonum   22     8\n",
      "3  Tilak   19     9\n",
      "4  Divya   17     1\n",
      "5  Megha   23    18\n"
     ]
    }
   ],
   "source": [
    "'''7.Given  a dataframe  with  custom  indexing,  convert  and  it  to  default  indexing  and display it.'''\n",
    "df = pd.DataFrame({'Name': ['Raj', 'Akhil', 'Sonum', 'Tilak', 'Divya', 'Megha'],\n",
    "                   'Age': [20, 22, 22, 19, 17, 23],\n",
    "                   'Rank': [1, 11, 8, 9, 1, 18]}, index={'a','b','c','d','e','f'})\n",
    "print(df)\n",
    "df.reset_index(inplace=True, drop=True)\n",
    "print(df)"
   ]
  },
  {
   "cell_type": "code",
   "execution_count": 111,
   "id": "6e7b722f",
   "metadata": {},
   "outputs": [
    {
     "name": "stdout",
     "output_type": "stream",
     "text": [
      "    Name  Age  Rank\n",
      "0    Raj   20     1\n",
      "1  Akhil   22    11\n"
     ]
    }
   ],
   "source": [
    "'''8.Given a dataframe, select first 2 rows and output them.'''\n",
    "df = pd.DataFrame({'Name': ['Raj', 'Akhil', 'Sonum', 'Tilak', 'Divya', 'Megha'],\n",
    "                   'Age': [20, 22, 22, 19, 17, 23],\n",
    "                   'Rank': [1, 11, 8, 9, 1, 18]})\n",
    "print(df.iloc[0:2])"
   ]
  },
  {
   "cell_type": "code",
   "execution_count": 115,
   "id": "6810851b",
   "metadata": {},
   "outputs": [
    {
     "name": "stdout",
     "output_type": "stream",
     "text": [
      "N\n",
      "O\n",
      "S\n"
     ]
    }
   ],
   "source": [
    "'''9.Given  is  a  dataframe  showing  name,  occupation, salary  of  people.  Find  the  average salary per\n",
    "occupation.'''\n",
    "df = pd.DataFrame({'Name': ['Raj', 'Akhil', 'Sonum', 'Tilak', 'Divya'],\n",
    "                   'Occupation': ['Manager','Assistant','Professor','Clerk','Manager'],\n",
    "                   'Salary': [100000, 25000, 80000, 45000, 150000]})\n",
    "for i in df:\n",
    "    print(i[0])"
   ]
  },
  {
   "cell_type": "code",
   "execution_count": null,
   "id": "91103159",
   "metadata": {},
   "outputs": [],
   "source": [
    "'''10.Given a dataframe with NaN Values, fill the NaN values with 0.'''"
   ]
  },
  {
   "cell_type": "code",
   "execution_count": null,
   "id": "eb846aed",
   "metadata": {},
   "outputs": [],
   "source": [
    "'''11.Given  is  a  dataframe  showing  Company  Names  (cname)  and  corresponding  Profits (profit). Convert the\n",
    "values  of  Profit  column  such that  values  in  it  greater than  0  are set to True and the rest\n",
    "are set to False.'''"
   ]
  },
  {
   "cell_type": "code",
   "execution_count": null,
   "id": "bba9b974",
   "metadata": {},
   "outputs": [],
   "source": [
    "'''12.Given are 2 dataframes, with one dataframe containing Employee ID (eid), Employee Name (ename) and \n",
    "Stipend (stipend) and the other dataframe containing Employee ID (eid) and designation of the employee \n",
    "(designation). Output the Dataframe containing Employee   ID   (eid),   Employee   Name   (ename),   \n",
    "Stipend   (stipend)   and   Position (position).'''"
   ]
  }
 ],
 "metadata": {
  "kernelspec": {
   "display_name": "Python 3 (ipykernel)",
   "language": "python",
   "name": "python3"
  },
  "language_info": {
   "codemirror_mode": {
    "name": "ipython",
    "version": 3
   },
   "file_extension": ".py",
   "mimetype": "text/x-python",
   "name": "python",
   "nbconvert_exporter": "python",
   "pygments_lexer": "ipython3",
   "version": "3.9.7"
  }
 },
 "nbformat": 4,
 "nbformat_minor": 5
}
