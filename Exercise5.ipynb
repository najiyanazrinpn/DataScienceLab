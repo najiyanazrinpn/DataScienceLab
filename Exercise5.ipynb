{
  "nbformat": 4,
  "nbformat_minor": 0,
  "metadata": {
    "colab": {
      "name": "Exercise5.ipynb",
      "provenance": []
    },
    "kernelspec": {
      "name": "python3",
      "display_name": "Python 3"
    },
    "language_info": {
      "name": "python"
    }
  },
  "cells": [
    {
      "cell_type": "code",
      "execution_count": 1,
      "metadata": {
        "colab": {
          "base_uri": "https://localhost:8080/"
        },
        "id": "Z0udEAW7UIFI",
        "outputId": "e4ec7288-812b-4cbe-9c13-b3170f3a3399"
      },
      "outputs": [
        {
          "output_type": "stream",
          "name": "stdout",
          "text": [
            "Accuracy :  0.9777777777777777\n",
            "['setosa']\n"
          ]
        }
      ],
      "source": [
        "from sklearn.datasets import load_iris\n",
        "from sklearn.model_selection import train_test_split\n",
        "from sklearn.neighbors import KNeighborsClassifier\n",
        "from sklearn import metrics\n",
        "\n",
        "iris = load_iris()\n",
        "x = iris.data\n",
        "y = iris.target\n",
        "x_train,x_test,y_train,y_test = train_test_split(x,y,test_size=0.3,random_state=1)\n",
        "c_knn = KNeighborsClassifier(n_neighbors=3)\n",
        "c_knn.fit(x_train,y_train)\n",
        "y_pred = c_knn.predict(x_test)\n",
        "print(\"Accuracy : \",metrics.accuracy_score(y_test,y_pred))\n",
        "sample = [[2,2,2,2]]\n",
        "pred = c_knn.predict(sample)\n",
        "pred_v = [iris.target_names[p] for p in pred]\n",
        "print(pred_v)"
      ]
    }
  ]
}