{
 "cells": [
  {
   "cell_type": "code",
   "execution_count": 7,
   "id": "013a7450",
   "metadata": {},
   "outputs": [
    {
     "data": {
      "image/png": "[encoded data removed]",
      "text/plain": [
       "<Figure size 432x288 with 1 Axes>"
      ]
     },
     "metadata": {
      "needs_background": "light"
     },
     "output_type": "display_data"
    }
   ],
   "source": [
    "import numpy as np\n",
    "import matplotlib.pyplot as plt\n",
    "\n",
    "x_pts = np.array([1,2,6,18])\n",
    "y_pts = np.array([3,10,12,20])\n",
    "\n",
    "plt.plot(x_pts, y_pts, marker=\"o\", color=\"red\", mec=\"g\", mfc=\"g\", linestyle=\"dotted\")\n",
    "plt.show()"
   ]
  },
  {
   "cell_type": "code",
   "execution_count": 11,
   "id": "a42e907c",
   "metadata": {},
   "outputs": [
    {
     "data": {
      "text/plain": [
       "[<matplotlib.lines.Line2D at 0x7f7a0dbccfa0>]"
      ]
     },
     "execution_count": 11,
     "metadata": {},
     "output_type": "execute_result"
    },
    {
     "data": {
      "image/png": "[encoded data removed]",
      "text/plain": [
       "<Figure size 432x288 with 1 Axes>"
      ]
     },
     "metadata": {
      "needs_background": "light"
     },
     "output_type": "display_data"
    }
   ],
   "source": [
    "x_pts = [12, 14, 16, 18, 20, 22, 24]\n",
    "y_pts = [100, 200, 250, 400, 300, 450, 500]\n",
    "plt.plot(x_pts, y_pts)"
   ]
  },
  {
   "cell_type": "code",
   "execution_count": 15,
   "id": "251456ca",
   "metadata": {},
   "outputs": [
    {
     "name": "stdout",
     "output_type": "stream",
     "text": [
      "A\n",
      "v\n",
      "e\n",
      "r\n",
      "a\n",
      "g\n",
      "e\n",
      " \n",
      "M\n",
      "a\n",
      "r\n",
      "k\n",
      " \n",
      "v\n",
      "s\n",
      " \n",
      "N\n",
      "u\n",
      "m\n",
      "b\n",
      "e\n",
      "r\n",
      " \n",
      "o\n",
      "f\n",
      " \n",
      "S\n",
      "t\n",
      "u\n",
      "d\n",
      "e\n",
      "n\n",
      "t\n",
      "s\n",
      "\n",
      "\n",
      "M\n",
      "a\n",
      "r\n",
      "k\n",
      " \n",
      "2\n",
      "0\n",
      " \n",
      "2\n",
      "5\n",
      " \n",
      "3\n",
      "0\n",
      " \n",
      "3\n",
      "5\n",
      " \n",
      "4\n",
      "0\n",
      " \n",
      "4\n",
      "5\n",
      " \n",
      "5\n",
      "0\n",
      "\n",
      "\n",
      "N\n",
      "u\n",
      "m\n",
      "b\n",
      "e\n",
      "r\n",
      " \n",
      "o\n",
      "f\n",
      " \n",
      "S\n",
      "t\n",
      "u\n",
      "d\n",
      "e\n",
      "n\n",
      "t\n",
      "s\n",
      " \n",
      "2\n",
      " \n",
      "8\n",
      " \n",
      "4\n",
      " \n",
      "6\n",
      " \n",
      "1\n",
      "5\n",
      " \n",
      "1\n",
      "0\n",
      " \n",
      "3\n"
     ]
    }
   ],
   "source": [
    "f = open(\"values.txt\",'r')\n",
    "for i in f.read():\n",
    "    print(i)"
   ]
  }
 ],
 "metadata": {
  "kernelspec": {
   "display_name": "Python 3 (ipykernel)",
   "language": "python",
   "name": "python3"
  },
  "language_info": {
   "codemirror_mode": {
    "name": "ipython",
    "version": 3
   },
   "file_extension": ".py",
   "mimetype": "text/x-python",
   "name": "python",
   "nbconvert_exporter": "python",
   "pygments_lexer": "ipython3",
   "version": "3.9.7"
  }
 },
 "nbformat": 4,
 "nbformat_minor": 5
}
