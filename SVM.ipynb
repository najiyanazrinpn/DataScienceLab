{
  "nbformat": 4,
  "nbformat_minor": 0,
  "metadata": {
    "colab": {
      "name": "SVM.ipynb",
      "provenance": []
    },
    "kernelspec": {
      "name": "python3",
      "display_name": "Python 3"
    },
    "language_info": {
      "name": "python"
    }
  },
  "cells": [
    {
      "cell_type": "code",
      "execution_count": 1,
      "metadata": {
        "colab": {
          "base_uri": "https://localhost:8080/"
        },
        "id": "gBnfCzULFHcq",
        "outputId": "ec8c9cac-3a4b-4d44-ad6f-47eb3dbc942d"
      },
      "outputs": [
        {
          "output_type": "stream",
          "name": "stdout",
          "text": [
            "------Feature variables  in dataset------\n",
            "['sepal length (cm)', 'sepal width (cm)', 'petal length (cm)', 'petal width (cm)']\n",
            "------Target variables in dataset------\n",
            "['setosa' 'versicolor' 'virginica']\n",
            "------Size of data------\n",
            "(150, 4)\n",
            "------First 10 datas------\n",
            "[[5.1 3.5 1.4 0.2]\n",
            " [4.9 3.  1.4 0.2]\n",
            " [4.7 3.2 1.3 0.2]\n",
            " [4.6 3.1 1.5 0.2]\n",
            " [5.  3.6 1.4 0.2]\n",
            " [5.4 3.9 1.7 0.4]\n",
            " [4.6 3.4 1.4 0.3]\n",
            " [5.  3.4 1.5 0.2]\n",
            " [4.4 2.9 1.4 0.2]\n",
            " [4.9 3.1 1.5 0.1]]\n"
          ]
        }
      ],
      "source": [
        "from sklearn.datasets import load_iris\n",
        "iris=load_iris()\n",
        "x=iris.data\n",
        "y=iris.target\n",
        "fname=iris.feature_names\n",
        "print(\"------Feature variables  in dataset------\")\n",
        "print(fname)\n",
        "tname=iris.target_names\n",
        "print(\"------Target variables in dataset------\")\n",
        "print(tname)\n",
        "print(\"------Size of data------\")\n",
        "print(x.shape)\n",
        "print(\"------First 10 datas------\")\n",
        "print(x[:10])"
      ]
    },
    {
      "cell_type": "code",
      "source": [
        "from sklearn.model_selection import train_test_split\n",
        "x_train,x_test,y_train,y_test=train_test_split(x,y,test_size=0.3,random_state=1)\n",
        "print(\"----Training data's size----\")\n",
        "print(x_train.shape)\n",
        "print(\"----Training data----\")\n",
        "print(x_train)\n",
        "print(\"----Testing data's size----\")\n",
        "print(x_test.shape)\n",
        "print(\"----Testing data----\")\n",
        "print(x_test)"
      ],
      "metadata": {
        "colab": {
          "base_uri": "https://localhost:8080/"
        },
        "id": "-glDlCrGGl9x",
        "outputId": "62840659-8234-464d-86b6-75f83acc1779"
      },
      "execution_count": 2,
      "outputs": [
        {
          "output_type": "stream",
          "name": "stdout",
          "text": [
            "----Training data's size----\n",
            "(105, 4)\n",
            "----Training data----\n",
            "[[7.7 2.6 6.9 2.3]\n",
            " [5.7 3.8 1.7 0.3]\n",
            " [5.  3.6 1.4 0.2]\n",
            " [4.8 3.  1.4 0.3]\n",
            " [5.2 2.7 3.9 1.4]\n",
            " [5.1 3.4 1.5 0.2]\n",
            " [5.5 3.5 1.3 0.2]\n",
            " [7.7 3.8 6.7 2.2]\n",
            " [6.9 3.1 5.4 2.1]\n",
            " [7.3 2.9 6.3 1.8]\n",
            " [6.4 2.8 5.6 2.2]\n",
            " [6.2 2.8 4.8 1.8]\n",
            " [6.  3.4 4.5 1.6]\n",
            " [7.7 2.8 6.7 2. ]\n",
            " [5.7 3.  4.2 1.2]\n",
            " [4.8 3.4 1.6 0.2]\n",
            " [5.7 2.5 5.  2. ]\n",
            " [6.3 2.7 4.9 1.8]\n",
            " [4.8 3.  1.4 0.1]\n",
            " [4.7 3.2 1.3 0.2]\n",
            " [6.5 3.  5.8 2.2]\n",
            " [4.6 3.4 1.4 0.3]\n",
            " [6.1 3.  4.9 1.8]\n",
            " [6.5 3.2 5.1 2. ]\n",
            " [6.7 3.1 4.4 1.4]\n",
            " [5.7 2.8 4.5 1.3]\n",
            " [6.7 3.3 5.7 2.5]\n",
            " [6.  3.  4.8 1.8]\n",
            " [5.1 3.8 1.6 0.2]\n",
            " [6.  2.2 4.  1. ]\n",
            " [6.4 2.9 4.3 1.3]\n",
            " [6.5 3.  5.5 1.8]\n",
            " [5.  2.3 3.3 1. ]\n",
            " [6.3 3.3 6.  2.5]\n",
            " [5.5 2.5 4.  1.3]\n",
            " [5.4 3.7 1.5 0.2]\n",
            " [4.9 3.1 1.5 0.2]\n",
            " [5.2 4.1 1.5 0.1]\n",
            " [6.7 3.3 5.7 2.1]\n",
            " [4.4 3.  1.3 0.2]\n",
            " [6.  2.7 5.1 1.6]\n",
            " [6.4 2.7 5.3 1.9]\n",
            " [5.9 3.  5.1 1.8]\n",
            " [5.2 3.5 1.5 0.2]\n",
            " [5.1 3.3 1.7 0.5]\n",
            " [5.8 2.7 4.1 1. ]\n",
            " [4.9 3.1 1.5 0.1]\n",
            " [7.4 2.8 6.1 1.9]\n",
            " [6.2 2.9 4.3 1.3]\n",
            " [7.6 3.  6.6 2.1]\n",
            " [6.7 3.  5.2 2.3]\n",
            " [6.3 2.3 4.4 1.3]\n",
            " [6.2 3.4 5.4 2.3]\n",
            " [7.2 3.6 6.1 2.5]\n",
            " [5.6 2.9 3.6 1.3]\n",
            " [5.7 4.4 1.5 0.4]\n",
            " [5.8 2.7 3.9 1.2]\n",
            " [4.5 2.3 1.3 0.3]\n",
            " [5.5 2.4 3.8 1.1]\n",
            " [6.9 3.1 4.9 1.5]\n",
            " [5.  3.4 1.6 0.4]\n",
            " [6.8 2.8 4.8 1.4]\n",
            " [5.  3.5 1.6 0.6]\n",
            " [4.8 3.4 1.9 0.2]\n",
            " [6.3 3.4 5.6 2.4]\n",
            " [5.6 2.8 4.9 2. ]\n",
            " [6.8 3.2 5.9 2.3]\n",
            " [5.  3.3 1.4 0.2]\n",
            " [5.1 3.7 1.5 0.4]\n",
            " [5.9 3.2 4.8 1.8]\n",
            " [4.6 3.1 1.5 0.2]\n",
            " [5.8 2.7 5.1 1.9]\n",
            " [4.8 3.1 1.6 0.2]\n",
            " [6.5 3.  5.2 2. ]\n",
            " [4.9 2.5 4.5 1.7]\n",
            " [4.6 3.2 1.4 0.2]\n",
            " [6.4 3.2 5.3 2.3]\n",
            " [4.3 3.  1.1 0.1]\n",
            " [5.6 3.  4.1 1.3]\n",
            " [4.4 2.9 1.4 0.2]\n",
            " [5.5 2.4 3.7 1. ]\n",
            " [5.  2.  3.5 1. ]\n",
            " [5.1 3.5 1.4 0.2]\n",
            " [4.9 3.  1.4 0.2]\n",
            " [4.9 2.4 3.3 1. ]\n",
            " [4.6 3.6 1.  0.2]\n",
            " [5.9 3.  4.2 1.5]\n",
            " [6.1 2.9 4.7 1.4]\n",
            " [5.  3.4 1.5 0.2]\n",
            " [6.7 3.1 4.7 1.5]\n",
            " [5.7 2.9 4.2 1.3]\n",
            " [6.2 2.2 4.5 1.5]\n",
            " [7.  3.2 4.7 1.4]\n",
            " [5.8 2.7 5.1 1.9]\n",
            " [5.4 3.4 1.7 0.2]\n",
            " [5.  3.  1.6 0.2]\n",
            " [6.1 2.6 5.6 1.4]\n",
            " [6.1 2.8 4.  1.3]\n",
            " [7.2 3.  5.8 1.6]\n",
            " [5.7 2.6 3.5 1. ]\n",
            " [6.3 2.8 5.1 1.5]\n",
            " [6.4 3.1 5.5 1.8]\n",
            " [6.3 2.5 4.9 1.5]\n",
            " [6.7 3.1 5.6 2.4]\n",
            " [4.9 3.6 1.4 0.1]]\n",
            "----Testing data's size----\n",
            "(45, 4)\n",
            "----Testing data----\n",
            "[[5.8 4.  1.2 0.2]\n",
            " [5.1 2.5 3.  1.1]\n",
            " [6.6 3.  4.4 1.4]\n",
            " [5.4 3.9 1.3 0.4]\n",
            " [7.9 3.8 6.4 2. ]\n",
            " [6.3 3.3 4.7 1.6]\n",
            " [6.9 3.1 5.1 2.3]\n",
            " [5.1 3.8 1.9 0.4]\n",
            " [4.7 3.2 1.6 0.2]\n",
            " [6.9 3.2 5.7 2.3]\n",
            " [5.6 2.7 4.2 1.3]\n",
            " [5.4 3.9 1.7 0.4]\n",
            " [7.1 3.  5.9 2.1]\n",
            " [6.4 3.2 4.5 1.5]\n",
            " [6.  2.9 4.5 1.5]\n",
            " [4.4 3.2 1.3 0.2]\n",
            " [5.8 2.6 4.  1.2]\n",
            " [5.6 3.  4.5 1.5]\n",
            " [5.4 3.4 1.5 0.4]\n",
            " [5.  3.2 1.2 0.2]\n",
            " [5.5 2.6 4.4 1.2]\n",
            " [5.4 3.  4.5 1.5]\n",
            " [6.7 3.  5.  1.7]\n",
            " [5.  3.5 1.3 0.3]\n",
            " [7.2 3.2 6.  1.8]\n",
            " [5.7 2.8 4.1 1.3]\n",
            " [5.5 4.2 1.4 0.2]\n",
            " [5.1 3.8 1.5 0.3]\n",
            " [6.1 2.8 4.7 1.2]\n",
            " [6.3 2.5 5.  1.9]\n",
            " [6.1 3.  4.6 1.4]\n",
            " [7.7 3.  6.1 2.3]\n",
            " [5.6 2.5 3.9 1.1]\n",
            " [6.4 2.8 5.6 2.1]\n",
            " [5.8 2.8 5.1 2.4]\n",
            " [5.3 3.7 1.5 0.2]\n",
            " [5.5 2.3 4.  1.3]\n",
            " [5.2 3.4 1.4 0.2]\n",
            " [6.5 2.8 4.6 1.5]\n",
            " [6.7 2.5 5.8 1.8]\n",
            " [6.8 3.  5.5 2.1]\n",
            " [5.1 3.5 1.4 0.3]\n",
            " [6.  2.2 5.  1.5]\n",
            " [6.3 2.9 5.6 1.8]\n",
            " [6.6 2.9 4.6 1.3]]\n"
          ]
        }
      ]
    },
    {
      "cell_type": "code",
      "source": [
        "from sklearn import svm\n",
        "classifier=svm.SVC(kernel='linear',random_state=0)\n",
        "classifier.fit(x_train,y_train)\n",
        "y_pred=classifier.predict(x_test)\n",
        "print(\"----Predicted target values----\")\n",
        "print(y_pred)\n",
        "print(\"-----Original target values----\")\n",
        "print(y_test)"
      ],
      "metadata": {
        "colab": {
          "base_uri": "https://localhost:8080/"
        },
        "id": "p-fxMzHsGsWZ",
        "outputId": "96136a07-6418-4240-c8c5-f2ceea757839"
      },
      "execution_count": 3,
      "outputs": [
        {
          "output_type": "stream",
          "name": "stdout",
          "text": [
            "----Predicted target values----\n",
            "[0 1 1 0 2 1 2 0 0 2 1 0 2 1 1 0 1 1 0 0 1 1 1 0 2 1 0 0 1 2 1 2 1 2 2 0 1\n",
            " 0 1 2 2 0 2 2 1]\n",
            "-----Original target values----\n",
            "[0 1 1 0 2 1 2 0 0 2 1 0 2 1 1 0 1 1 0 0 1 1 1 0 2 1 0 0 1 2 1 2 1 2 2 0 1\n",
            " 0 1 2 2 0 2 2 1]\n"
          ]
        }
      ]
    },
    {
      "cell_type": "code",
      "source": [
        "from sklearn import metrics\n",
        "print(\"-----Accuracy of predicted and original target values-----\\n\",metrics.accuracy_score(y_test,y_pred))"
      ],
      "metadata": {
        "colab": {
          "base_uri": "https://localhost:8080/"
        },
        "id": "tWnjkEJCGxv_",
        "outputId": "449e4805-b62a-4ec2-b21a-5cd7b82dd688"
      },
      "execution_count": 4,
      "outputs": [
        {
          "output_type": "stream",
          "name": "stdout",
          "text": [
            "-----Accuracy of predicted and original target values-----\n",
            " 1.0\n"
          ]
        }
      ]
    },
    {
      "cell_type": "code",
      "source": [
        "sample=[[1,1,1,2]]\n",
        "pred=classifier.predict(sample)\n",
        "pred_v=[iris.target_names[p] for p in pred]\n",
        "print(\"----Predicted target name----\")\n",
        "print(pred_v)"
      ],
      "metadata": {
        "colab": {
          "base_uri": "https://localhost:8080/"
        },
        "id": "DJ5iwvDNG0mz",
        "outputId": "6c7348f6-9b50-4085-f1a5-7f8c7ed6716f"
      },
      "execution_count": 5,
      "outputs": [
        {
          "output_type": "stream",
          "name": "stdout",
          "text": [
            "----Predicted target name----\n",
            "['setosa']\n"
          ]
        }
      ]
    }
  ]
}